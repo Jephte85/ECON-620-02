{
 "cells": [
  {
   "cell_type": "code",
   "execution_count": 2,
   "metadata": {},
   "outputs": [],
   "source": [
    "# lets import the package\n",
    "\n",
    "import numpy as np\n",
    "import pandas as pd\n",
    "import sklearn\n",
    "from sklearn.multiclass import OneVsRestClassifier\n",
    "from sklearn.svm import SVC\n",
    "import matplotlib.pyplot as plt \n",
    "\n",
    "\n",
    "import os\n",
    "import pandas as pd\n",
    "import numpy as np\n",
    "import matplotlib.pyplot as plt\n",
    "import seaborn as sns\n",
    "from random import sample\n",
    "from sklearn.linear_model import LogisticRegression\n",
    "from sklearn import tree\n",
    "from sklearn.ensemble import RandomForestClassifier\n",
    "from sklearn.svm import SVC\n",
    "from sklearn.neighbors import KNeighborsClassifier\n",
    "from sklearn.naive_bayes import GaussianNB\n",
    "#from sklearn.cross_validation import cross_val_score\n",
    "from sklearn.model_selection import cross_validate\n",
    "from sklearn.metrics import recall_score\n",
    "from sklearn import metrics\n",
    "from IPython.display import Image\n",
    "#from pydotplus import graph_from_dot_data\n",
    "\n",
    "\n"
   ]
  },
  {
   "cell_type": "code",
   "execution_count": null,
   "metadata": {},
   "outputs": [],
   "source": [
    "# In this brieth analysis, we will shift our focus on a current trend the topic of"
   ]
  },
  {
   "cell_type": "code",
   "execution_count": 48,
   "metadata": {
    "scrolled": true
   },
   "outputs": [
    {
     "data": {
      "text/html": [
       "<div>\n",
       "<style scoped>\n",
       "    .dataframe tbody tr th:only-of-type {\n",
       "        vertical-align: middle;\n",
       "    }\n",
       "\n",
       "    .dataframe tbody tr th {\n",
       "        vertical-align: top;\n",
       "    }\n",
       "\n",
       "    .dataframe thead th {\n",
       "        text-align: right;\n",
       "    }\n",
       "</style>\n",
       "<table border=\"1\" class=\"dataframe\">\n",
       "  <thead>\n",
       "    <tr style=\"text-align: right;\">\n",
       "      <th></th>\n",
       "      <th>Unnamed: 0</th>\n",
       "      <th>State</th>\n",
       "      <th>Start_week</th>\n",
       "      <th>End_week</th>\n",
       "      <th>Total_Deaths</th>\n",
       "      <th>Place_of_Death</th>\n",
       "    </tr>\n",
       "  </thead>\n",
       "  <tbody>\n",
       "    <tr>\n",
       "      <th>0</th>\n",
       "      <td>1</td>\n",
       "      <td>United States</td>\n",
       "      <td>2020-02-01</td>\n",
       "      <td>2020-11-07</td>\n",
       "      <td>716707</td>\n",
       "      <td>Healthcare Setting, Inpatient</td>\n",
       "    </tr>\n",
       "    <tr>\n",
       "      <th>1</th>\n",
       "      <td>2</td>\n",
       "      <td>United States</td>\n",
       "      <td>2020-02-01</td>\n",
       "      <td>2020-11-07</td>\n",
       "      <td>145939</td>\n",
       "      <td>Healthcare Setting, Outpatient or Emergency Room</td>\n",
       "    </tr>\n",
       "    <tr>\n",
       "      <th>2</th>\n",
       "      <td>3</td>\n",
       "      <td>United States</td>\n",
       "      <td>2020-02-01</td>\n",
       "      <td>2020-11-07</td>\n",
       "      <td>7013</td>\n",
       "      <td>Healthcare Setting, Dead on Arrival</td>\n",
       "    </tr>\n",
       "    <tr>\n",
       "      <th>3</th>\n",
       "      <td>4</td>\n",
       "      <td>United States</td>\n",
       "      <td>2020-02-01</td>\n",
       "      <td>2020-11-07</td>\n",
       "      <td>833215</td>\n",
       "      <td>Decedent's Home</td>\n",
       "    </tr>\n",
       "    <tr>\n",
       "      <th>4</th>\n",
       "      <td>5</td>\n",
       "      <td>United States</td>\n",
       "      <td>2020-02-01</td>\n",
       "      <td>2020-11-07</td>\n",
       "      <td>153348</td>\n",
       "      <td>Hospice Facility</td>\n",
       "    </tr>\n",
       "    <tr>\n",
       "      <th>5</th>\n",
       "      <td>6</td>\n",
       "      <td>United States</td>\n",
       "      <td>2020-02-01</td>\n",
       "      <td>2020-11-07</td>\n",
       "      <td>424540</td>\n",
       "      <td>Nursing Home or Long Term Care Facility</td>\n",
       "    </tr>\n",
       "  </tbody>\n",
       "</table>\n",
       "</div>"
      ],
      "text/plain": [
       "   Unnamed: 0          State  Start_week    End_week  Total_Deaths  \\\n",
       "0           1  United States  2020-02-01  2020-11-07        716707   \n",
       "1           2  United States  2020-02-01  2020-11-07        145939   \n",
       "2           3  United States  2020-02-01  2020-11-07          7013   \n",
       "3           4  United States  2020-02-01  2020-11-07        833215   \n",
       "4           5  United States  2020-02-01  2020-11-07        153348   \n",
       "5           6  United States  2020-02-01  2020-11-07        424540   \n",
       "\n",
       "                                     Place_of_Death  \n",
       "0                     Healthcare Setting, Inpatient  \n",
       "1  Healthcare Setting, Outpatient or Emergency Room  \n",
       "2               Healthcare Setting, Dead on Arrival  \n",
       "3                                   Decedent's Home  \n",
       "4                                  Hospice Facility  \n",
       "5           Nursing Home or Long Term Care Facility  "
      ]
     },
     "execution_count": 48,
     "metadata": {},
     "output_type": "execute_result"
    }
   ],
   "source": [
    "#. Lets import our data and obtain the first five rows.\n",
    "df = pd.read_csv(\"/Users/jephteestiverne/Desktop/CovidProject/Covid_Sample_Data.csv\")\n",
    "#print(df)\n",
    "df.head(6)"
   ]
  },
  {
   "cell_type": "code",
   "execution_count": 4,
   "metadata": {},
   "outputs": [
    {
     "data": {
      "text/plain": [
       "Unnamed: 0        0\n",
       "State             0\n",
       "Start_week        0\n",
       "End_week          0\n",
       "Total_Deaths      0\n",
       "Place_of_Death    0\n",
       "dtype: int64"
      ]
     },
     "execution_count": 4,
     "metadata": {},
     "output_type": "execute_result"
    }
   ],
   "source": [
    "df.apply(lambda x: sum(x.isnull()), axis=0)\n",
    "# Checking data frame for missing values, we can observe a large number of missing data in the meridian  "
   ]
  },
  {
   "cell_type": "code",
   "execution_count": null,
   "metadata": {},
   "outputs": [],
   "source": []
  },
  {
   "cell_type": "code",
   "execution_count": null,
   "metadata": {},
   "outputs": [],
   "source": []
  },
  {
   "cell_type": "code",
   "execution_count": 5,
   "metadata": {},
   "outputs": [
    {
     "data": {
      "text/plain": [
       "Unnamed: 0         int64\n",
       "State             object\n",
       "Start_week        object\n",
       "End_week          object\n",
       "Total_Deaths       int64\n",
       "Place_of_Death    object\n",
       "dtype: object"
      ]
     },
     "execution_count": 5,
     "metadata": {},
     "output_type": "execute_result"
    }
   ],
   "source": [
    "# Let's now convert all the dataframe values to numeric. \n",
    "df.dtypes"
   ]
  },
  {
   "cell_type": "code",
   "execution_count": 6,
   "metadata": {},
   "outputs": [],
   "source": [
    "df[\"State\"] = df[\"State\"].astype(\"|S\")"
   ]
  },
  {
   "cell_type": "code",
   "execution_count": null,
   "metadata": {},
   "outputs": [],
   "source": []
  },
  {
   "cell_type": "code",
   "execution_count": 7,
   "metadata": {},
   "outputs": [
    {
     "data": {
      "text/plain": [
       "['Unnamed: 0',\n",
       " 'State',\n",
       " 'Start_week',\n",
       " 'End_week',\n",
       " 'Total_Deaths',\n",
       " 'Place_of_Death']"
      ]
     },
     "execution_count": 7,
     "metadata": {},
     "output_type": "execute_result"
    }
   ],
   "source": [
    "# Let's now obtain our column names in the form of a list vector.  \n",
    "df.columns.tolist()"
   ]
  },
  {
   "cell_type": "code",
   "execution_count": 8,
   "metadata": {},
   "outputs": [],
   "source": [
    "# Lets drop the unnecessary columns to avoid the dummy variable trap\n",
    "df = df.drop(['Unnamed: 0','State',\n",
    " 'Start_week',\n",
    " 'End_week',], axis=1)\n",
    "\n"
   ]
  },
  {
   "cell_type": "code",
   "execution_count": 9,
   "metadata": {},
   "outputs": [
    {
     "data": {
      "text/html": [
       "<div>\n",
       "<style scoped>\n",
       "    .dataframe tbody tr th:only-of-type {\n",
       "        vertical-align: middle;\n",
       "    }\n",
       "\n",
       "    .dataframe tbody tr th {\n",
       "        vertical-align: top;\n",
       "    }\n",
       "\n",
       "    .dataframe thead th {\n",
       "        text-align: right;\n",
       "    }\n",
       "</style>\n",
       "<table border=\"1\" class=\"dataframe\">\n",
       "  <thead>\n",
       "    <tr style=\"text-align: right;\">\n",
       "      <th></th>\n",
       "      <th>Total_Deaths</th>\n",
       "      <th>Place_of_Death</th>\n",
       "    </tr>\n",
       "  </thead>\n",
       "  <tbody>\n",
       "    <tr>\n",
       "      <th>0</th>\n",
       "      <td>716707</td>\n",
       "      <td>Healthcare Setting, Inpatient</td>\n",
       "    </tr>\n",
       "    <tr>\n",
       "      <th>1</th>\n",
       "      <td>145939</td>\n",
       "      <td>Healthcare Setting, Outpatient or Emergency Room</td>\n",
       "    </tr>\n",
       "    <tr>\n",
       "      <th>2</th>\n",
       "      <td>7013</td>\n",
       "      <td>Healthcare Setting, Dead on Arrival</td>\n",
       "    </tr>\n",
       "    <tr>\n",
       "      <th>3</th>\n",
       "      <td>833215</td>\n",
       "      <td>Decedent's Home</td>\n",
       "    </tr>\n",
       "    <tr>\n",
       "      <th>4</th>\n",
       "      <td>153348</td>\n",
       "      <td>Hospice Facility</td>\n",
       "    </tr>\n",
       "    <tr>\n",
       "      <th>5</th>\n",
       "      <td>424540</td>\n",
       "      <td>Nursing Home or Long Term Care Facility</td>\n",
       "    </tr>\n",
       "  </tbody>\n",
       "</table>\n",
       "</div>"
      ],
      "text/plain": [
       "   Total_Deaths                                    Place_of_Death\n",
       "0        716707                     Healthcare Setting, Inpatient\n",
       "1        145939  Healthcare Setting, Outpatient or Emergency Room\n",
       "2          7013               Healthcare Setting, Dead on Arrival\n",
       "3        833215                                   Decedent's Home\n",
       "4        153348                                  Hospice Facility\n",
       "5        424540           Nursing Home or Long Term Care Facility"
      ]
     },
     "execution_count": 9,
     "metadata": {},
     "output_type": "execute_result"
    }
   ],
   "source": [
    "df.head(6)"
   ]
  },
  {
   "cell_type": "code",
   "execution_count": 11,
   "metadata": {},
   "outputs": [],
   "source": [
    "from sklearn.cluster import KMeans\n",
    "\n",
    "km = KMeans(n_clusters=12, random_state=1)\n",
    "new = df._get_numeric_data().dropna(axis=1)\n",
    "km.fit(new)\n",
    "predict=km.predict(new)\n",
    "\n",
    "df['Places'] = pd.Series(predict, index=df.index)"
   ]
  },
  {
   "cell_type": "code",
   "execution_count": 12,
   "metadata": {},
   "outputs": [
    {
     "data": {
      "text/html": [
       "<div>\n",
       "<style scoped>\n",
       "    .dataframe tbody tr th:only-of-type {\n",
       "        vertical-align: middle;\n",
       "    }\n",
       "\n",
       "    .dataframe tbody tr th {\n",
       "        vertical-align: top;\n",
       "    }\n",
       "\n",
       "    .dataframe thead th {\n",
       "        text-align: right;\n",
       "    }\n",
       "</style>\n",
       "<table border=\"1\" class=\"dataframe\">\n",
       "  <thead>\n",
       "    <tr style=\"text-align: right;\">\n",
       "      <th></th>\n",
       "      <th>Total_Deaths</th>\n",
       "      <th>Places</th>\n",
       "    </tr>\n",
       "  </thead>\n",
       "  <tbody>\n",
       "    <tr>\n",
       "      <th>0</th>\n",
       "      <td>716707</td>\n",
       "      <td>1</td>\n",
       "    </tr>\n",
       "    <tr>\n",
       "      <th>1</th>\n",
       "      <td>145939</td>\n",
       "      <td>5</td>\n",
       "    </tr>\n",
       "    <tr>\n",
       "      <th>2</th>\n",
       "      <td>7013</td>\n",
       "      <td>8</td>\n",
       "    </tr>\n",
       "    <tr>\n",
       "      <th>3</th>\n",
       "      <td>833215</td>\n",
       "      <td>6</td>\n",
       "    </tr>\n",
       "    <tr>\n",
       "      <th>4</th>\n",
       "      <td>153348</td>\n",
       "      <td>5</td>\n",
       "    </tr>\n",
       "    <tr>\n",
       "      <th>5</th>\n",
       "      <td>424540</td>\n",
       "      <td>2</td>\n",
       "    </tr>\n",
       "  </tbody>\n",
       "</table>\n",
       "</div>"
      ],
      "text/plain": [
       "   Total_Deaths  Places\n",
       "0        716707       1\n",
       "1        145939       5\n",
       "2          7013       8\n",
       "3        833215       6\n",
       "4        153348       5\n",
       "5        424540       2"
      ]
     },
     "execution_count": 12,
     "metadata": {},
     "output_type": "execute_result"
    }
   ],
   "source": [
    "# Lets drop the unnecessary columns to avoid the dummy variable trap\n",
    "df = df.drop(['Place_of_Death',], axis=1)\n",
    "\n",
    "df.head(6)"
   ]
  },
  {
   "cell_type": "code",
   "execution_count": 13,
   "metadata": {},
   "outputs": [],
   "source": [
    "# Let's now obtain five percent of our sample data and do a Pairwise Plots. Note that this is computationally expensive.\n",
    "df_sample = df.sample(frac=0.05)\n",
    "# Pairwise plots\n",
    "#pplot = sns.pairplot(df_sample, hue=\"Theft_Binary\")\n",
    "\n"
   ]
  },
  {
   "cell_type": "code",
   "execution_count": 14,
   "metadata": {},
   "outputs": [
    {
     "data": {
      "text/html": [
       "<div>\n",
       "<style scoped>\n",
       "    .dataframe tbody tr th:only-of-type {\n",
       "        vertical-align: middle;\n",
       "    }\n",
       "\n",
       "    .dataframe tbody tr th {\n",
       "        vertical-align: top;\n",
       "    }\n",
       "\n",
       "    .dataframe thead th {\n",
       "        text-align: right;\n",
       "    }\n",
       "</style>\n",
       "<table border=\"1\" class=\"dataframe\">\n",
       "  <thead>\n",
       "    <tr style=\"text-align: right;\">\n",
       "      <th></th>\n",
       "      <th>Total_Deaths</th>\n",
       "      <th>Places</th>\n",
       "      <th>Death_Binary</th>\n",
       "    </tr>\n",
       "  </thead>\n",
       "  <tbody>\n",
       "    <tr>\n",
       "      <th>0</th>\n",
       "      <td>716707</td>\n",
       "      <td>1</td>\n",
       "      <td>1</td>\n",
       "    </tr>\n",
       "    <tr>\n",
       "      <th>1</th>\n",
       "      <td>145939</td>\n",
       "      <td>5</td>\n",
       "      <td>1</td>\n",
       "    </tr>\n",
       "    <tr>\n",
       "      <th>2</th>\n",
       "      <td>7013</td>\n",
       "      <td>8</td>\n",
       "      <td>1</td>\n",
       "    </tr>\n",
       "    <tr>\n",
       "      <th>3</th>\n",
       "      <td>833215</td>\n",
       "      <td>6</td>\n",
       "      <td>1</td>\n",
       "    </tr>\n",
       "    <tr>\n",
       "      <th>4</th>\n",
       "      <td>153348</td>\n",
       "      <td>5</td>\n",
       "      <td>1</td>\n",
       "    </tr>\n",
       "    <tr>\n",
       "      <th>5</th>\n",
       "      <td>424540</td>\n",
       "      <td>2</td>\n",
       "      <td>1</td>\n",
       "    </tr>\n",
       "  </tbody>\n",
       "</table>\n",
       "</div>"
      ],
      "text/plain": [
       "   Total_Deaths  Places  Death_Binary\n",
       "0        716707       1             1\n",
       "1        145939       5             1\n",
       "2          7013       8             1\n",
       "3        833215       6             1\n",
       "4        153348       5             1\n",
       "5        424540       2             1"
      ]
     },
     "execution_count": 14,
     "metadata": {},
     "output_type": "execute_result"
    }
   ],
   "source": [
    "# Let's create a binary variable for the emphasis on theft. \n",
    "df['Death_Binary'] = np.where(df['Total_Deaths'] > 0,1,0)\n",
    "# confirming our new column binary variable\n",
    "df.head(6)"
   ]
  },
  {
   "cell_type": "code",
   "execution_count": 15,
   "metadata": {},
   "outputs": [
    {
     "data": {
      "text/plain": [
       "(91, 3)"
      ]
     },
     "execution_count": 15,
     "metadata": {},
     "output_type": "execute_result"
    }
   ],
   "source": [
    "x = len(df[df['Death_Binary'] == 1])\n",
    "x# total theft in our sample crimes  = 108905\n",
    "y = len(df[df['Death_Binary'] == 0])\n",
    "y# total NOT theft in our sample crimes  = 379365\n",
    "z = (round(float(len(df[df['Death_Binary'] == 1])) / len(df) * 100), 3)# % people left = 24.0%\n",
    "# percentage of crimes that are theft related \n",
    "z"
   ]
  },
  {
   "cell_type": "code",
   "execution_count": null,
   "metadata": {},
   "outputs": [],
   "source": [
    "\n"
   ]
  },
  {
   "cell_type": "code",
   "execution_count": 83,
   "metadata": {},
   "outputs": [],
   "source": []
  },
  {
   "cell_type": "code",
   "execution_count": 16,
   "metadata": {},
   "outputs": [
    {
     "data": {
      "text/plain": [
       "<matplotlib.axes._subplots.AxesSubplot at 0x7f8b94be32d0>"
      ]
     },
     "execution_count": 16,
     "metadata": {},
     "output_type": "execute_result"
    },
    {
     "data": {
      "image/png": "[encoded data removed]",
      "text/plain": [
       "<Figure size 720x720 with 2 Axes>"
      ]
     },
     "metadata": {
      "needs_background": "light"
     },
     "output_type": "display_data"
    }
   ],
   "source": [
    "# We can also use a Correlation heatmap. The importance of the aesthetics of a heatmap cannot be overlooked; after all, the main purpose of creating a graphic representation of data is for better understanding. This article will walk you through several ways that a correlation heatmap can be tweaked or customized to improve its readability, which is essential to effectively present your data.\n",
    "# Reference : https://towardsdatascience.com/formatting-tips-for-correlation-heatmaps-in-seaborn-4478ef15d87f\n",
    "correlation = df.corr()\n",
    "plt.figure(figsize=(10, 10))\n",
    "sns.heatmap(correlation, vmax=1, square=True, annot=True, cmap='cubehelix')\n",
    "# Notice how our binary variable has a mostly positive correlation.  "
   ]
  },
  {
   "cell_type": "code",
   "execution_count": 20,
   "metadata": {},
   "outputs": [
    {
     "name": "stdout",
     "output_type": "stream",
     "text": [
      "      Covid  Death  No_Death\n",
      "0  No_Death      0         1\n",
      "1  No_Death      0         1\n",
      "2     Death      1         0\n",
      "3  No_Death      0         1\n"
     ]
    }
   ],
   "source": [
    "#Let's now generate a Crime Variable and then use it to make our dummy variable. \n",
    "Covid = np.random.choice(['Death','No_Death'], 4)\n",
    "df1 = pd.DataFrame(Covid, columns=['Covid'])\n",
    "# Generate a One hot encode Crime\n",
    "dummies = pd.get_dummies(df1['Covid'])\n",
    "# Joining our dummies to 'df1'\n",
    "df1 = df1.join(dummies)\n",
    "print (df1)"
   ]
  },
  {
   "cell_type": "code",
   "execution_count": 21,
   "metadata": {},
   "outputs": [],
   "source": [
    "# Lets drop the unnecessary columns to avoid the dummy variable trap\n",
    "#df = df.drop(['Unnamed: 0','state'\n",
    "# 'Start_week',\n",
    "# 'End_week',], axis=1)"
   ]
  },
  {
   "cell_type": "code",
   "execution_count": 22,
   "metadata": {},
   "outputs": [
    {
     "data": {
      "text/html": [
       "<div>\n",
       "<style scoped>\n",
       "    .dataframe tbody tr th:only-of-type {\n",
       "        vertical-align: middle;\n",
       "    }\n",
       "\n",
       "    .dataframe tbody tr th {\n",
       "        vertical-align: top;\n",
       "    }\n",
       "\n",
       "    .dataframe thead th {\n",
       "        text-align: right;\n",
       "    }\n",
       "</style>\n",
       "<table border=\"1\" class=\"dataframe\">\n",
       "  <thead>\n",
       "    <tr style=\"text-align: right;\">\n",
       "      <th></th>\n",
       "      <th>Total_Deaths</th>\n",
       "      <th>Places</th>\n",
       "      <th>Death_Binary</th>\n",
       "    </tr>\n",
       "  </thead>\n",
       "  <tbody>\n",
       "    <tr>\n",
       "      <th>0</th>\n",
       "      <td>716707</td>\n",
       "      <td>1</td>\n",
       "      <td>1</td>\n",
       "    </tr>\n",
       "    <tr>\n",
       "      <th>1</th>\n",
       "      <td>145939</td>\n",
       "      <td>5</td>\n",
       "      <td>1</td>\n",
       "    </tr>\n",
       "    <tr>\n",
       "      <th>2</th>\n",
       "      <td>7013</td>\n",
       "      <td>8</td>\n",
       "      <td>1</td>\n",
       "    </tr>\n",
       "    <tr>\n",
       "      <th>3</th>\n",
       "      <td>833215</td>\n",
       "      <td>6</td>\n",
       "      <td>1</td>\n",
       "    </tr>\n",
       "    <tr>\n",
       "      <th>4</th>\n",
       "      <td>153348</td>\n",
       "      <td>5</td>\n",
       "      <td>1</td>\n",
       "    </tr>\n",
       "    <tr>\n",
       "      <th>5</th>\n",
       "      <td>424540</td>\n",
       "      <td>2</td>\n",
       "      <td>1</td>\n",
       "    </tr>\n",
       "  </tbody>\n",
       "</table>\n",
       "</div>"
      ],
      "text/plain": [
       "   Total_Deaths  Places  Death_Binary\n",
       "0        716707       1             1\n",
       "1        145939       5             1\n",
       "2          7013       8             1\n",
       "3        833215       6             1\n",
       "4        153348       5             1\n",
       "5        424540       2             1"
      ]
     },
     "execution_count": 22,
     "metadata": {},
     "output_type": "execute_result"
    }
   ],
   "source": [
    "df.head(6)"
   ]
  },
  {
   "cell_type": "code",
   "execution_count": 87,
   "metadata": {},
   "outputs": [],
   "source": []
  },
  {
   "cell_type": "code",
   "execution_count": null,
   "metadata": {},
   "outputs": [],
   "source": []
  },
  {
   "cell_type": "code",
   "execution_count": null,
   "metadata": {},
   "outputs": [],
   "source": []
  },
  {
   "cell_type": "code",
   "execution_count": null,
   "metadata": {},
   "outputs": [],
   "source": []
  },
  {
   "cell_type": "code",
   "execution_count": 23,
   "metadata": {},
   "outputs": [
    {
     "name": "stdout",
     "output_type": "stream",
     "text": [
      "(249, 3) (83, 3) (83, 3)\n"
     ]
    }
   ],
   "source": [
    "# Lets now Randomly split the data into test, training, and validation sets.\n",
    "train, test, validate = np.split(df.sample(frac=1), [int(.6*len(df)), int(.8*len(df))])\n",
    "# This is crucial to avoid having one subgroup of the data overrepresented in either our training or testing datasets, hence df.sample(Wikipedia).\n",
    "print (train.shape, test.shape, validate.shape)\n",
    "#(292903, 4) (97635, 4) (97635, 4)\n",
    "\n",
    "\n"
   ]
  },
  {
   "cell_type": "code",
   "execution_count": null,
   "metadata": {},
   "outputs": [],
   "source": []
  },
  {
   "cell_type": "code",
   "execution_count": 24,
   "metadata": {},
   "outputs": [],
   "source": [
    "# Separate target and predictors\n",
    "y_train = train['Death_Binary']\n",
    "x_train = train.drop(['Death_Binary'], axis=1)\n",
    "y_test = test['Death_Binary']\n",
    "x_test = test.drop(['Death_Binary'], axis=1)\n",
    "y_validate = validate['Death_Binary']\n",
    "x_validate = validate.drop(['Death_Binary'], axis=1)"
   ]
  },
  {
   "cell_type": "code",
   "execution_count": 25,
   "metadata": {},
   "outputs": [
    {
     "data": {
      "text/plain": [
       "0.9076305220883534"
      ]
     },
     "execution_count": 25,
     "metadata": {},
     "output_type": "execute_result"
    }
   ],
   "source": [
    "# Check the balance of the splits on y_. Principal component analysis (PCA) is the process of computing the principal components and using them to perform a change of basis on the data, sometimes using only the first few principal components and ignoring the rest().\n",
    "y_test.mean()\n",
    "# 0.22155774469043768\n",
    "y_train.mean()\n",
    "#0.22284460100627385"
   ]
  },
  {
   "cell_type": "code",
   "execution_count": 67,
   "metadata": {},
   "outputs": [],
   "source": [
    "from sklearn.cluster import KMeans\n",
    "import pandas as pd\n",
    "import numpy as np\n",
    "import matplotlib.pyplot as plt\n",
    "from sklearn.linear_model import LinearRegression\n",
    "from sklearn.metrics import r2_score\n",
    "from sklearn import linear_model\n",
    "import statsmodels.api as sm\n",
    "import matplotlib.pyplot as plt\n",
    "import seaborn as sns; sns.set(color_codes=True)\n",
    "import seaborn\n",
    "from datetime import date\n",
    "from datetime import datetime\n",
    "today = date.today()\n",
    "sns.set_color_codes(\"dark\")\n",
    "from sklearn.linear_model import LinearRegression\n",
    "from sklearn.metrics import accuracy_score\n",
    "\n",
    "from sklearn.cluster import KMeans\n"
   ]
  },
  {
   "cell_type": "code",
   "execution_count": null,
   "metadata": {},
   "outputs": [],
   "source": []
  },
  {
   "cell_type": "code",
   "execution_count": null,
   "metadata": {},
   "outputs": [],
   "source": []
  },
  {
   "cell_type": "code",
   "execution_count": null,
   "metadata": {},
   "outputs": [],
   "source": [
    "\n"
   ]
  },
  {
   "cell_type": "code",
   "execution_count": 26,
   "metadata": {},
   "outputs": [],
   "source": [
    "# Lets now create a variable list and drop the unnecessaryall_vars = x_train.columns.tolist()\n",
    "three_vars = ['Total_Deaths', 'Places' ]\n",
    "bottom_vars = [cols for cols in three_vars if cols not in three_vars]\n",
    "\n",
    "# Drop less important variables leaving the three variables\n",
    "x_train    = x_train.drop(bottom_vars, axis=1)\n",
    "x_test     = x_test.drop(bottom_vars, axis=1)\n",
    "x_validate = x_validate.drop(bottom_vars, axis=1)"
   ]
  },
  {
   "cell_type": "code",
   "execution_count": 28,
   "metadata": {},
   "outputs": [
    {
     "name": "stdout",
     "output_type": "stream",
     "text": [
      "Features sorted by their score:\n",
      "[(0.9359, 'Total_Deaths'), (0.0641, 'Places')]\n"
     ]
    }
   ],
   "source": [
    "# Variable importance\n",
    "rf = RandomForestClassifier()\n",
    "rf.fit(x_train, y_train)\n",
    "print(\"Features sorted by their score:\")\n",
    "Rf_importance = (sorted(zip(map(lambda x: round(x, 4), rf.feature_importances_), x_train), reverse=True))# Variable importance\n",
    "print(Rf_importance)"
   ]
  },
  {
   "cell_type": "code",
   "execution_count": 27,
   "metadata": {},
   "outputs": [
    {
     "data": {
      "text/plain": [
       "1.0"
      ]
     },
     "execution_count": 27,
     "metadata": {},
     "output_type": "execute_result"
    }
   ],
   "source": [
    "# Lets now measure the accuracy of our our model. Reinstating the objective question: Assume you have been selected to help the Chicago Police Department build the machine learning services which will power their next generation of mobile crime analytics software. This software aims in particular at predicting, in real-time, the category of a crime as soon as it is being reported by an emergency call (for instance ‘robbery’, ‘assault’, ‘theft’).\n",
    "logit_model = LogisticRegression()\n",
    "# Let's Fit the model\n",
    "logit_model = logit_model.fit(x_train, y_train)\n",
    "# Now we want to know \"how accurate?\" is the model\n",
    "logit_model.score(x_train, y_train)\n",
    "#0.777499\n",
    "\n"
   ]
  },
  {
   "cell_type": "code",
   "execution_count": 83,
   "metadata": {},
   "outputs": [
    {
     "data": {
      "text/plain": [
       "LogisticRegression(C=1.0, class_weight=None, dual=False, fit_intercept=True,\n",
       "                   intercept_scaling=1, l1_ratio=None, max_iter=100,\n",
       "                   multi_class='auto', n_jobs=None, penalty='l2',\n",
       "                   random_state=None, solver='lbfgs', tol=0.0001, verbose=0,\n",
       "                   warm_start=False)"
      ]
     },
     "execution_count": 83,
     "metadata": {},
     "output_type": "execute_result"
    }
   ],
   "source": [
    "import statsmodels.api as sm\n",
    "logit_model=sm.Logit(y1,x1)\n",
    "result=logit_model.fit()\n",
    "print(result.summary())"
   ]
  },
  {
   "cell_type": "code",
   "execution_count": 29,
   "metadata": {},
   "outputs": [
    {
     "name": "stdout",
     "output_type": "stream",
     "text": [
      "1.0\n"
     ]
    }
   ],
   "source": [
    "# Now, how does it perform on our test dataset?\n",
    "# Predictions on the test dataset is 0.776217. \n",
    "predicted = pd.DataFrame(logit_model.predict(x_test))\n",
    "# Probabilities on the test dataset\n",
    "probs = pd.DataFrame(logit_model.predict_proba(x_test))\n",
    "print (metrics.accuracy_score(y_test, predicted))"
   ]
  },
  {
   "cell_type": "code",
   "execution_count": null,
   "metadata": {},
   "outputs": [],
   "source": []
  },
  {
   "cell_type": "code",
   "execution_count": 30,
   "metadata": {},
   "outputs": [
    {
     "name": "stdout",
     "output_type": "stream",
     "text": [
      "[[10  0]\n",
      " [ 0 73]]\n",
      "              precision    recall  f1-score   support\n",
      "\n",
      "           0       1.00      1.00      1.00        10\n",
      "           1       1.00      1.00      1.00        73\n",
      "\n",
      "    accuracy                           1.00        83\n",
      "   macro avg       1.00      1.00      1.00        83\n",
      "weighted avg       1.00      1.00      1.00        83\n",
      "\n"
     ]
    }
   ],
   "source": [
    "# Let's now take a look at the confusion matrix and the metrics we care for.\n",
    "print (metrics.confusion_matrix(y_test, predicted))#[[75786     0][21849     0]]\n",
    "print (metrics.classification_report(y_test, predicted))"
   ]
  },
  {
   "cell_type": "code",
   "execution_count": 31,
   "metadata": {},
   "outputs": [],
   "source": [
    "from sklearn.model_selection import cross_val_score"
   ]
  },
  {
   "cell_type": "code",
   "execution_count": 32,
   "metadata": {},
   "outputs": [],
   "source": [
    "# Random Forest \n",
    "rf = RandomForestClassifier()    \n",
    "rf_model = rf.fit(x_train, y_train)\n",
    "rf_model.score(x_train, y_train)\n",
    "predicted = pd.DataFrame(rf_model.predict(x_test))\n",
    "probs = pd.DataFrame(rf_model.predict_proba(x_test))\n",
    "rf_accuracy = metrics.accuracy_score(y_test, predicted)\n",
    "rf_roc_auc = metrics.roc_auc_score(y_test, probs[1])\n",
    "rf_confus_matrix = metrics.confusion_matrix(y_test, predicted)\n",
    "rf_classification_report = metrics.classification_report(y_test, predicted)\n",
    "rf_precision = metrics.precision_score(y_test, predicted, pos_label=1)\n",
    "rf_recall = metrics.recall_score(y_test, predicted, pos_label=1)\n",
    "rf_f1 = metrics.f1_score(y_test, predicted, pos_label=1)\n",
    "rf_cv_scores = cross_val_score(RandomForestClassifier(), x_test, y_test, scoring='precision', cv=10)\n",
    "rf_cv_mean = np.mean(rf_cv_scores)"
   ]
  },
  {
   "cell_type": "code",
   "execution_count": 33,
   "metadata": {},
   "outputs": [
    {
     "data": {
      "text/plain": [
       "1.0"
      ]
     },
     "execution_count": 33,
     "metadata": {},
     "output_type": "execute_result"
    }
   ],
   "source": [
    "rf_cv_mean"
   ]
  },
  {
   "cell_type": "code",
   "execution_count": 34,
   "metadata": {},
   "outputs": [],
   "source": [
    "# TWO CLASS BAYES \n",
    "bayes_model = GaussianNB()\n",
    "bayes_model.fit(x_train, y_train)\n",
    "bayes_model.score(x_train, y_train)\n",
    "predicted = pd.DataFrame(bayes_model.predict(x_test))\n",
    "probs = pd.DataFrame(bayes_model.predict_proba(x_test))\n",
    "bayes_accuracy = metrics.accuracy_score(y_test, predicted)\n",
    "bayes_roc_auc = metrics.roc_auc_score(y_test, probs[1])\n",
    "bayes_confus_matrix = metrics.confusion_matrix(y_test, predicted)\n",
    "bayes_classification_report = metrics.classification_report(y_test, predicted)\n",
    "bayes_precision = metrics.precision_score(y_test, predicted, pos_label=1)\n",
    "bayes_recall = metrics.recall_score(y_test, predicted, pos_label=1)\n",
    "bayes_f1 = metrics.f1_score(y_test, predicted, pos_label=1)\n",
    "bayes_cv_scores = cross_val_score(KNeighborsClassifier(n_neighbors=3), x_test, y_test, scoring='precision', cv=10)\n",
    "bayes_cv_mean = np.mean(bayes_cv_scores)"
   ]
  },
  {
   "cell_type": "code",
   "execution_count": 35,
   "metadata": {},
   "outputs": [
    {
     "data": {
      "text/plain": [
       "1.0"
      ]
     },
     "execution_count": 35,
     "metadata": {},
     "output_type": "execute_result"
    }
   ],
   "source": [
    "bayes_cv_mean"
   ]
  },
  {
   "cell_type": "code",
   "execution_count": 36,
   "metadata": {},
   "outputs": [],
   "source": [
    "from pydotplus import graph_from_dot_data"
   ]
  },
  {
   "cell_type": "code",
   "execution_count": 37,
   "metadata": {},
   "outputs": [
    {
     "name": "stderr",
     "output_type": "stream",
     "text": [
      "/Users/jephteestiverne/opt/anaconda3/lib/python3.7/site-packages/sklearn/metrics/_classification.py:1272: UndefinedMetricWarning: Precision and F-score are ill-defined and being set to 0.0 in labels with no predicted samples. Use `zero_division` parameter to control this behavior.\n",
      "  _warn_prf(average, modifier, msg_start, len(result))\n"
     ]
    }
   ],
   "source": [
    "# SUPPORT VECTOR MACHINE\n",
    "svm_model = SVC(probability=True)\n",
    "svm_model = svm_model.fit(x_train, y_train)\n",
    "svm_model.score(x_train, y_train)\n",
    "predicted = pd.DataFrame(svm_model.predict(x_test))\n",
    "probs = pd.DataFrame(svm_model.predict_proba(x_test))\n",
    "svm_accuracy = metrics.accuracy_score(y_test, predicted)\n",
    "svm_roc_auc = metrics.roc_auc_score(y_test, probs[1])\n",
    "svm_confus_matrix = metrics.confusion_matrix(y_test, predicted)\n",
    "svm_classification_report = metrics.classification_report(y_test, predicted)\n",
    "svm_precision = metrics.precision_score(y_test, predicted, pos_label=1)\n",
    "svm_recall = metrics.recall_score(y_test, predicted, pos_label=1)\n",
    "svm_f1 = metrics.f1_score(y_test, predicted, pos_label=1)\n",
    "svm_cv_scores = cross_val_score(SVC(probability=True), x_test, y_test, scoring='precision', cv=10)\n",
    "svm_cv_mean = np.mean(svm_cv_scores)"
   ]
  },
  {
   "cell_type": "code",
   "execution_count": 38,
   "metadata": {},
   "outputs": [
    {
     "data": {
      "text/plain": [
       "0.8791666666666667"
      ]
     },
     "execution_count": 38,
     "metadata": {},
     "output_type": "execute_result"
    }
   ],
   "source": [
    "svm_cv_mean"
   ]
  },
  {
   "cell_type": "code",
   "execution_count": 39,
   "metadata": {},
   "outputs": [
    {
     "data": {
      "text/plain": [
       "True"
      ]
     },
     "execution_count": 39,
     "metadata": {},
     "output_type": "execute_result"
    }
   ],
   "source": [
    "#  Decision Tree with maximum depth of 3\n",
    "tree_model = tree.DecisionTreeClassifier(max_depth=3)\n",
    "tree_model = tree_model.fit(x_train, y_train)\n",
    "tree_model.score(x_train, y_train)\n",
    "predicted = pd.DataFrame(tree_model.predict(x_test))\n",
    "probs = pd.DataFrame(tree_model.predict_proba(x_test))\n",
    "tree_accuracy = metrics.accuracy_score(y_test, predicted)\n",
    "tree_roc_auc = metrics.roc_auc_score(y_test, probs[1])\n",
    "tree_confus_matrix = metrics.confusion_matrix(y_test, predicted)\n",
    "tree_classification_report = metrics.classification_report(y_test, predicted)\n",
    "tree_precision = metrics.precision_score(y_test, predicted, pos_label=1)\n",
    "tree_recall = metrics.recall_score(y_test, predicted, pos_label=1)\n",
    "tree_f1 = metrics.f1_score(y_test, predicted, pos_label=1)\n",
    "tree_cv_scores = cross_val_score(tree.DecisionTreeClassifier(max_depth=3), x_test, y_test, scoring='precision', cv=10)\n",
    "dot_data = tree.export_graphviz(tree_model, out_file=None,\n",
    "                     feature_names=x_test.columns.tolist(),\n",
    "                     class_names=['remain', 'left'],\n",
    "                     filled=True, rounded=True,  \n",
    "                     special_characters=True)  \n",
    "graph = graph_from_dot_data(dot_data)\n",
    "graph.write_png(\"/Users/jephteestiverne/Desktop/Fall2020/ECON_622_01/decision_tree.png\")"
   ]
  },
  {
   "cell_type": "code",
   "execution_count": 40,
   "metadata": {},
   "outputs": [
    {
     "ename": "NameError",
     "evalue": "name 'logit_accuracy' is not defined",
     "output_type": "error",
     "traceback": [
      "\u001b[0;31m---------------------------------------------------------------------------\u001b[0m",
      "\u001b[0;31mNameError\u001b[0m                                 Traceback (most recent call last)",
      "\u001b[0;32m<ipython-input-40-95642720f055>\u001b[0m in \u001b[0;36m<module>\u001b[0;34m\u001b[0m\n\u001b[1;32m      2\u001b[0m models = pd.DataFrame({\n\u001b[1;32m      3\u001b[0m   \u001b[0;34m'Model'\u001b[0m\u001b[0;34m:\u001b[0m \u001b[0;34m[\u001b[0m\u001b[0;34m'Logistic'\u001b[0m\u001b[0;34m,\u001b[0m \u001b[0;34m'd.Tree'\u001b[0m\u001b[0;34m,\u001b[0m \u001b[0;34m'r.f.'\u001b[0m\u001b[0;34m,\u001b[0m \u001b[0;34m'SVM'\u001b[0m\u001b[0;34m,\u001b[0m \u001b[0;34m'kNN'\u001b[0m\u001b[0;34m,\u001b[0m  \u001b[0;34m'Bayes'\u001b[0m\u001b[0;34m]\u001b[0m\u001b[0;34m,\u001b[0m\u001b[0;34m\u001b[0m\u001b[0;34m\u001b[0m\u001b[0m\n\u001b[0;32m----> 4\u001b[0;31m   \u001b[0;34m'Accuracy'\u001b[0m \u001b[0;34m:\u001b[0m \u001b[0;34m[\u001b[0m\u001b[0mlogit_accuracy\u001b[0m\u001b[0;34m,\u001b[0m \u001b[0mtree_accuracy\u001b[0m\u001b[0;34m,\u001b[0m \u001b[0mrf_accuracy\u001b[0m\u001b[0;34m,\u001b[0m \u001b[0msvm_accuracy\u001b[0m\u001b[0;34m,\u001b[0m \u001b[0mknn_accuracy\u001b[0m\u001b[0;34m,\u001b[0m \u001b[0mbayes_accuracy\u001b[0m\u001b[0;34m]\u001b[0m\u001b[0;34m,\u001b[0m\u001b[0;34m\u001b[0m\u001b[0;34m\u001b[0m\u001b[0m\n\u001b[0m\u001b[1;32m      5\u001b[0m   \u001b[0;34m'Precision'\u001b[0m\u001b[0;34m:\u001b[0m \u001b[0;34m[\u001b[0m\u001b[0mlogit_precision\u001b[0m\u001b[0;34m,\u001b[0m \u001b[0mtree_precision\u001b[0m\u001b[0;34m,\u001b[0m \u001b[0mrf_precision\u001b[0m\u001b[0;34m,\u001b[0m \u001b[0msvm_precision\u001b[0m\u001b[0;34m,\u001b[0m \u001b[0mknn_precision\u001b[0m\u001b[0;34m,\u001b[0m \u001b[0mbayes_precision\u001b[0m\u001b[0;34m]\u001b[0m\u001b[0;34m,\u001b[0m\u001b[0;34m\u001b[0m\u001b[0;34m\u001b[0m\u001b[0m\n\u001b[1;32m      6\u001b[0m   \u001b[0;34m'recall'\u001b[0m \u001b[0;34m:\u001b[0m \u001b[0;34m[\u001b[0m\u001b[0mlogit_recall\u001b[0m\u001b[0;34m,\u001b[0m \u001b[0mtree_recall\u001b[0m\u001b[0;34m,\u001b[0m \u001b[0mrf_recall\u001b[0m\u001b[0;34m,\u001b[0m \u001b[0msvm_recall\u001b[0m\u001b[0;34m,\u001b[0m \u001b[0mknn_recall\u001b[0m\u001b[0;34m,\u001b[0m \u001b[0mbayes_recall\u001b[0m\u001b[0;34m]\u001b[0m\u001b[0;34m,\u001b[0m\u001b[0;34m\u001b[0m\u001b[0;34m\u001b[0m\u001b[0m\n",
      "\u001b[0;31mNameError\u001b[0m: name 'logit_accuracy' is not defined"
     ]
    }
   ],
   "source": [
    "#Lets now compary themodel which works best for our dataset. \n",
    "models = pd.DataFrame({\n",
    "  'Model': ['Logistic', 'd.Tree', 'r.f.', 'SVM', 'kNN',  'Bayes'],\n",
    "  'Accuracy' : [logit_accuracy, tree_accuracy, rf_accuracy, svm_accuracy, knn_accuracy, bayes_accuracy],\n",
    "  'Precision': [logit_precision, tree_precision, rf_precision, svm_precision, knn_precision, bayes_precision],\n",
    "  'recall' : [logit_recall, tree_recall, rf_recall, svm_recall, knn_recall, bayes_recall],\n",
    "  'F1' : [logit_f1, tree_f1, rf_f1, svm_f1, knn_f1, bayes_f1],\n",
    "  'cv_precision' : [logit_cv_mean, tree_cv_mean, rf_cv_mean, svm_cv_mean, knn_cv_mean, bayes_cv_mean]\n",
    "})\n",
    "# Print table and sort by test precision\n",
    "table = models.sort_values(by='Precision', ascending=False)\n",
    "\n"
   ]
  },
  {
   "cell_type": "code",
   "execution_count": 42,
   "metadata": {},
   "outputs": [],
   "source": [
    "#table"
   ]
  },
  {
   "cell_type": "code",
   "execution_count": 43,
   "metadata": {},
   "outputs": [
    {
     "data": {
      "image/png": "[encoded data removed]",
      "text/plain": [
       "<IPython.core.display.Image object>"
      ]
     },
     "execution_count": 43,
     "metadata": {
      "image/png": {
       "height": 300,
       "width": 600
      }
     },
     "output_type": "execute_result"
    }
   ],
   "source": [
    "#Import library\n",
    "from IPython.display import Image\n",
    "# Load image from local storage\n",
    "Image(filename = \"/Users/jephteestiverne/Desktop/Fall2020/ECON_622_01/decision_tree.png\", width = 600, height = 300)"
   ]
  },
  {
   "cell_type": "code",
   "execution_count": null,
   "metadata": {},
   "outputs": [],
   "source": []
  },
  {
   "cell_type": "code",
   "execution_count": null,
   "metadata": {},
   "outputs": [],
   "source": [
    "# Multi column"
   ]
  },
  {
   "cell_type": "code",
   "execution_count": null,
   "metadata": {},
   "outputs": [],
   "source": []
  },
  {
   "cell_type": "code",
   "execution_count": 49,
   "metadata": {},
   "outputs": [
    {
     "name": "stdout",
     "output_type": "stream",
     "text": [
      "      State  Total_Deaths  Place_of_Death  Cluster\n",
      "0 -7.602652     -6.231181        1.559039        1\n",
      "1 -9.170452     -6.598017       -0.143467        1\n",
      "2  0.766870      4.338255        3.862665        0\n",
      "3  9.557854      4.674793       -6.761902        2\n",
      "4  9.031327      4.284545       -5.876104        2\n"
     ]
    }
   ],
   "source": [
    "import pandas as pd\n",
    "from sklearn.datasets.samples_generator import make_blobs\n",
    "from sklearn.cluster import KMeans\n",
    "\n",
    "X, _ = make_blobs(n_samples=10, centers=3, n_features=3)\n",
    "\n",
    "df = pd.DataFrame(X, columns=['State','Total_Deaths','Place_of_Death'])\n",
    "\n",
    "kmeans = KMeans(n_clusters=3)\n",
    "\n",
    "y = kmeans.fit_predict(df[['State','Total_Deaths','Place_of_Death']])\n",
    "\n",
    "df['Cluster'] = y\n",
    "\n",
    "print(df.head())"
   ]
  },
  {
   "cell_type": "code",
   "execution_count": 50,
   "metadata": {},
   "outputs": [
    {
     "data": {
      "text/html": [
       "<div>\n",
       "<style scoped>\n",
       "    .dataframe tbody tr th:only-of-type {\n",
       "        vertical-align: middle;\n",
       "    }\n",
       "\n",
       "    .dataframe tbody tr th {\n",
       "        vertical-align: top;\n",
       "    }\n",
       "\n",
       "    .dataframe thead th {\n",
       "        text-align: right;\n",
       "    }\n",
       "</style>\n",
       "<table border=\"1\" class=\"dataframe\">\n",
       "  <thead>\n",
       "    <tr style=\"text-align: right;\">\n",
       "      <th></th>\n",
       "      <th>State</th>\n",
       "      <th>Total_Deaths</th>\n",
       "      <th>Place_of_Death</th>\n",
       "      <th>Cluster</th>\n",
       "      <th>Death_Binary</th>\n",
       "    </tr>\n",
       "  </thead>\n",
       "  <tbody>\n",
       "    <tr>\n",
       "      <th>0</th>\n",
       "      <td>-7.602652</td>\n",
       "      <td>-6.231181</td>\n",
       "      <td>1.559039</td>\n",
       "      <td>1</td>\n",
       "      <td>0</td>\n",
       "    </tr>\n",
       "    <tr>\n",
       "      <th>1</th>\n",
       "      <td>-9.170452</td>\n",
       "      <td>-6.598017</td>\n",
       "      <td>-0.143467</td>\n",
       "      <td>1</td>\n",
       "      <td>0</td>\n",
       "    </tr>\n",
       "    <tr>\n",
       "      <th>2</th>\n",
       "      <td>0.766870</td>\n",
       "      <td>4.338255</td>\n",
       "      <td>3.862665</td>\n",
       "      <td>0</td>\n",
       "      <td>1</td>\n",
       "    </tr>\n",
       "    <tr>\n",
       "      <th>3</th>\n",
       "      <td>9.557854</td>\n",
       "      <td>4.674793</td>\n",
       "      <td>-6.761902</td>\n",
       "      <td>2</td>\n",
       "      <td>1</td>\n",
       "    </tr>\n",
       "    <tr>\n",
       "      <th>4</th>\n",
       "      <td>9.031327</td>\n",
       "      <td>4.284545</td>\n",
       "      <td>-5.876104</td>\n",
       "      <td>2</td>\n",
       "      <td>1</td>\n",
       "    </tr>\n",
       "    <tr>\n",
       "      <th>5</th>\n",
       "      <td>-8.380741</td>\n",
       "      <td>-7.964337</td>\n",
       "      <td>-0.970486</td>\n",
       "      <td>1</td>\n",
       "      <td>0</td>\n",
       "    </tr>\n",
       "  </tbody>\n",
       "</table>\n",
       "</div>"
      ],
      "text/plain": [
       "      State  Total_Deaths  Place_of_Death  Cluster  Death_Binary\n",
       "0 -7.602652     -6.231181        1.559039        1             0\n",
       "1 -9.170452     -6.598017       -0.143467        1             0\n",
       "2  0.766870      4.338255        3.862665        0             1\n",
       "3  9.557854      4.674793       -6.761902        2             1\n",
       "4  9.031327      4.284545       -5.876104        2             1\n",
       "5 -8.380741     -7.964337       -0.970486        1             0"
      ]
     },
     "execution_count": 50,
     "metadata": {},
     "output_type": "execute_result"
    }
   ],
   "source": [
    "# Let's create a binary variable for the emphasis on theft. \n",
    "df['Death_Binary'] = np.where(df['Total_Deaths'] > 0,1,0)\n",
    "# confirming our new column binary variable\n",
    "df.head(6)"
   ]
  },
  {
   "cell_type": "code",
   "execution_count": 51,
   "metadata": {},
   "outputs": [
    {
     "data": {
      "text/plain": [
       "(70, 3)"
      ]
     },
     "execution_count": 51,
     "metadata": {},
     "output_type": "execute_result"
    }
   ],
   "source": [
    "x = len(df[df['Death_Binary'] == 1])\n",
    "x# total theft in our sample crimes  = 108905\n",
    "y = len(df[df['Death_Binary'] == 0])\n",
    "y# total NOT theft in our sample crimes  = 379365\n",
    "z = (round(float(len(df[df['Death_Binary'] == 1])) / len(df) * 100), 3)# % people left = 24.0%\n",
    "# percentage of crimes that are theft related \n",
    "z"
   ]
  },
  {
   "cell_type": "code",
   "execution_count": 52,
   "metadata": {},
   "outputs": [
    {
     "data": {
      "text/plain": [
       "<matplotlib.axes._subplots.AxesSubplot at 0x7f8b986b6fd0>"
      ]
     },
     "execution_count": 52,
     "metadata": {},
     "output_type": "execute_result"
    },
    {
     "data": {
      "image/png": "[encoded data removed]",
      "text/plain": [
       "<Figure size 720x720 with 2 Axes>"
      ]
     },
     "metadata": {
      "needs_background": "light"
     },
     "output_type": "display_data"
    }
   ],
   "source": [
    "# We can also use a Correlation heatmap. The importance of the aesthetics of a heatmap cannot be overlooked; after all, the main purpose of creating a graphic representation of data is for better understanding. This article will walk you through several ways that a correlation heatmap can be tweaked or customized to improve its readability, which is essential to effectively present your data.\n",
    "# Reference : https://towardsdatascience.com/formatting-tips-for-correlation-heatmaps-in-seaborn-4478ef15d87f\n",
    "correlation = df.corr()\n",
    "plt.figure(figsize=(10, 10))\n",
    "sns.heatmap(correlation, vmax=1, square=True, annot=True, cmap='cubehelix')\n",
    "# Notice how our binary variable has a mostly positive correlation.  "
   ]
  },
  {
   "cell_type": "code",
   "execution_count": 53,
   "metadata": {},
   "outputs": [
    {
     "name": "stdout",
     "output_type": "stream",
     "text": [
      "      Covid  Death  No_Death\n",
      "0  No_Death      0         1\n",
      "1  No_Death      0         1\n",
      "2  No_Death      0         1\n",
      "3     Death      1         0\n"
     ]
    }
   ],
   "source": [
    "#Let's now generate a Crime Variable and then use it to make our dummy variable. \n",
    "Covid = np.random.choice(['Death','No_Death'], 4)\n",
    "df1 = pd.DataFrame(Covid, columns=['Covid'])\n",
    "# Generate a One hot encode Crime\n",
    "dummies = pd.get_dummies(df1['Covid'])\n",
    "# Joining our dummies to 'df1'\n",
    "df1 = df1.join(dummies)\n",
    "print (df1)"
   ]
  },
  {
   "cell_type": "code",
   "execution_count": 54,
   "metadata": {},
   "outputs": [
    {
     "name": "stdout",
     "output_type": "stream",
     "text": [
      "(6, 5) (2, 5) (2, 5)\n"
     ]
    }
   ],
   "source": [
    "# Lets now Randomly split the data into test, training, and validation sets.\n",
    "train, test, validate = np.split(df.sample(frac=1), [int(.6*len(df)), int(.8*len(df))])\n",
    "# This is crucial to avoid having one subgroup of the data overrepresented in either our training or testing datasets, hence df.sample(Wikipedia).\n",
    "print (train.shape, test.shape, validate.shape)\n",
    "#(292903, 4) (97635, 4) (97635, 4)\n",
    "\n"
   ]
  },
  {
   "cell_type": "code",
   "execution_count": 55,
   "metadata": {},
   "outputs": [],
   "source": [
    "# Separate target and predictors\n",
    "y_train = train['Death_Binary']\n",
    "x_train = train.drop(['Death_Binary'], axis=1)\n",
    "y_test = test['Death_Binary']\n",
    "x_test = test.drop(['Death_Binary'], axis=1)\n",
    "y_validate = validate['Death_Binary']\n",
    "x_validate = validate.drop(['Death_Binary'], axis=1)"
   ]
  },
  {
   "cell_type": "code",
   "execution_count": 56,
   "metadata": {},
   "outputs": [
    {
     "data": {
      "text/plain": [
       "0.6666666666666666"
      ]
     },
     "execution_count": 56,
     "metadata": {},
     "output_type": "execute_result"
    }
   ],
   "source": [
    "# Check the balance of the splits on y_. Principal component analysis (PCA) is the process of computing the principal components and using them to perform a change of basis on the data, sometimes using only the first few principal components and ignoring the rest().\n",
    "y_test.mean()\n",
    "# 0.22155774469043768\n",
    "y_train.mean()\n",
    "#0.22284460100627385"
   ]
  },
  {
   "cell_type": "code",
   "execution_count": 57,
   "metadata": {},
   "outputs": [
    {
     "name": "stdout",
     "output_type": "stream",
     "text": [
      "Features sorted by their score:\n",
      "[(0.3901, 'State'), (0.3874, 'Total_Deaths'), (0.128, 'Cluster'), (0.0945, 'Place_of_Death')]\n"
     ]
    }
   ],
   "source": [
    "# Variable importance\n",
    "rf = RandomForestClassifier()\n",
    "rf.fit(x_train, y_train)\n",
    "print(\"Features sorted by their score:\")\n",
    "Rf_importance = (sorted(zip(map(lambda x: round(x, 4), rf.feature_importances_), x_train), reverse=True))# Variable importance\n",
    "print(Rf_importance)"
   ]
  },
  {
   "cell_type": "code",
   "execution_count": 58,
   "metadata": {},
   "outputs": [
    {
     "data": {
      "text/plain": [
       "1.0"
      ]
     },
     "execution_count": 58,
     "metadata": {},
     "output_type": "execute_result"
    }
   ],
   "source": [
    "# Lets now measure the accuracy of our our model. Reinstating the objective question: Assume you have been selected to help the Chicago Police Department build the machine learning services which will power their next generation of mobile crime analytics software. This software aims in particular at predicting, in real-time, the category of a crime as soon as it is being reported by an emergency call (for instance ‘robbery’, ‘assault’, ‘theft’).\n",
    "logit_model = LogisticRegression()\n",
    "# Let's Fit the model\n",
    "logit_model = logit_model.fit(x_train, y_train)\n",
    "# Now we want to know \"how accurate?\" is the model\n",
    "logit_model.score(x_train, y_train)\n",
    "#0.777499\n",
    "\n",
    "\n"
   ]
  },
  {
   "cell_type": "code",
   "execution_count": 59,
   "metadata": {},
   "outputs": [
    {
     "name": "stdout",
     "output_type": "stream",
     "text": [
      "1.0\n"
     ]
    }
   ],
   "source": [
    "# Now, how does it perform on our test dataset?\n",
    "# Predictions on the test dataset is 0.776217. \n",
    "predicted = pd.DataFrame(logit_model.predict(x_test))\n",
    "# Probabilities on the test dataset\n",
    "probs = pd.DataFrame(logit_model.predict_proba(x_test))\n",
    "print (metrics.accuracy_score(y_test, predicted))"
   ]
  },
  {
   "cell_type": "code",
   "execution_count": 60,
   "metadata": {},
   "outputs": [
    {
     "name": "stdout",
     "output_type": "stream",
     "text": [
      "[[1 0]\n",
      " [0 1]]\n",
      "              precision    recall  f1-score   support\n",
      "\n",
      "           0       1.00      1.00      1.00         1\n",
      "           1       1.00      1.00      1.00         1\n",
      "\n",
      "    accuracy                           1.00         2\n",
      "   macro avg       1.00      1.00      1.00         2\n",
      "weighted avg       1.00      1.00      1.00         2\n",
      "\n"
     ]
    }
   ],
   "source": [
    "# Let's now take a look at the confusion matrix and the metrics we care for.\n",
    "print (metrics.confusion_matrix(y_test, predicted))#[[75786     0][21849     0]]\n",
    "print (metrics.classification_report(y_test, predicted))"
   ]
  },
  {
   "cell_type": "code",
   "execution_count": 61,
   "metadata": {},
   "outputs": [],
   "source": [
    "from sklearn.model_selection import cross_val_score"
   ]
  },
  {
   "cell_type": "code",
   "execution_count": null,
   "metadata": {},
   "outputs": [],
   "source": []
  },
  {
   "cell_type": "code",
   "execution_count": 68,
   "metadata": {},
   "outputs": [
    {
     "data": {
      "text/html": [
       "<div>\n",
       "<style scoped>\n",
       "    .dataframe tbody tr th:only-of-type {\n",
       "        vertical-align: middle;\n",
       "    }\n",
       "\n",
       "    .dataframe tbody tr th {\n",
       "        vertical-align: top;\n",
       "    }\n",
       "\n",
       "    .dataframe thead th {\n",
       "        text-align: right;\n",
       "    }\n",
       "</style>\n",
       "<table border=\"1\" class=\"dataframe\">\n",
       "  <thead>\n",
       "    <tr style=\"text-align: right;\">\n",
       "      <th></th>\n",
       "      <th>Unnamed: 0</th>\n",
       "      <th>State</th>\n",
       "      <th>Start_week</th>\n",
       "      <th>End_week</th>\n",
       "      <th>Total_Deaths</th>\n",
       "      <th>Place_of_Death</th>\n",
       "    </tr>\n",
       "  </thead>\n",
       "  <tbody>\n",
       "    <tr>\n",
       "      <th>0</th>\n",
       "      <td>1</td>\n",
       "      <td>United States</td>\n",
       "      <td>2020-02-01</td>\n",
       "      <td>2020-11-07</td>\n",
       "      <td>716707</td>\n",
       "      <td>Healthcare Setting, Inpatient</td>\n",
       "    </tr>\n",
       "    <tr>\n",
       "      <th>1</th>\n",
       "      <td>2</td>\n",
       "      <td>United States</td>\n",
       "      <td>2020-02-01</td>\n",
       "      <td>2020-11-07</td>\n",
       "      <td>145939</td>\n",
       "      <td>Healthcare Setting, Outpatient or Emergency Room</td>\n",
       "    </tr>\n",
       "    <tr>\n",
       "      <th>2</th>\n",
       "      <td>3</td>\n",
       "      <td>United States</td>\n",
       "      <td>2020-02-01</td>\n",
       "      <td>2020-11-07</td>\n",
       "      <td>7013</td>\n",
       "      <td>Healthcare Setting, Dead on Arrival</td>\n",
       "    </tr>\n",
       "    <tr>\n",
       "      <th>3</th>\n",
       "      <td>4</td>\n",
       "      <td>United States</td>\n",
       "      <td>2020-02-01</td>\n",
       "      <td>2020-11-07</td>\n",
       "      <td>833215</td>\n",
       "      <td>Decedent's Home</td>\n",
       "    </tr>\n",
       "    <tr>\n",
       "      <th>4</th>\n",
       "      <td>5</td>\n",
       "      <td>United States</td>\n",
       "      <td>2020-02-01</td>\n",
       "      <td>2020-11-07</td>\n",
       "      <td>153348</td>\n",
       "      <td>Hospice Facility</td>\n",
       "    </tr>\n",
       "    <tr>\n",
       "      <th>5</th>\n",
       "      <td>6</td>\n",
       "      <td>United States</td>\n",
       "      <td>2020-02-01</td>\n",
       "      <td>2020-11-07</td>\n",
       "      <td>424540</td>\n",
       "      <td>Nursing Home or Long Term Care Facility</td>\n",
       "    </tr>\n",
       "  </tbody>\n",
       "</table>\n",
       "</div>"
      ],
      "text/plain": [
       "   Unnamed: 0          State  Start_week    End_week  Total_Deaths  \\\n",
       "0           1  United States  2020-02-01  2020-11-07        716707   \n",
       "1           2  United States  2020-02-01  2020-11-07        145939   \n",
       "2           3  United States  2020-02-01  2020-11-07          7013   \n",
       "3           4  United States  2020-02-01  2020-11-07        833215   \n",
       "4           5  United States  2020-02-01  2020-11-07        153348   \n",
       "5           6  United States  2020-02-01  2020-11-07        424540   \n",
       "\n",
       "                                     Place_of_Death  \n",
       "0                     Healthcare Setting, Inpatient  \n",
       "1  Healthcare Setting, Outpatient or Emergency Room  \n",
       "2               Healthcare Setting, Dead on Arrival  \n",
       "3                                   Decedent's Home  \n",
       "4                                  Hospice Facility  \n",
       "5           Nursing Home or Long Term Care Facility  "
      ]
     },
     "execution_count": 68,
     "metadata": {},
     "output_type": "execute_result"
    }
   ],
   "source": [
    "#. Lets import our data and obtain the first five rows.\n",
    "df = pd.read_csv(\"/Users/jephteestiverne/Desktop/CovidProject/Covid_Sample_Data.csv\")\n",
    "#print(df)\n",
    "df.head(6)"
   ]
  },
  {
   "cell_type": "code",
   "execution_count": 69,
   "metadata": {},
   "outputs": [],
   "source": [
    "# Lets drop the unnecessary columns to avoid the dummy variable trap\n",
    "df = df.drop(['Unnamed: 0',\n",
    " 'Start_week',\n",
    " 'End_week',], axis=1)\n",
    "\n"
   ]
  },
  {
   "cell_type": "code",
   "execution_count": 70,
   "metadata": {},
   "outputs": [
    {
     "data": {
      "text/html": [
       "<div>\n",
       "<style scoped>\n",
       "    .dataframe tbody tr th:only-of-type {\n",
       "        vertical-align: middle;\n",
       "    }\n",
       "\n",
       "    .dataframe tbody tr th {\n",
       "        vertical-align: top;\n",
       "    }\n",
       "\n",
       "    .dataframe thead th {\n",
       "        text-align: right;\n",
       "    }\n",
       "</style>\n",
       "<table border=\"1\" class=\"dataframe\">\n",
       "  <thead>\n",
       "    <tr style=\"text-align: right;\">\n",
       "      <th></th>\n",
       "      <th>State</th>\n",
       "      <th>Total_Deaths</th>\n",
       "      <th>Place_of_Death</th>\n",
       "    </tr>\n",
       "  </thead>\n",
       "  <tbody>\n",
       "    <tr>\n",
       "      <th>0</th>\n",
       "      <td>United States</td>\n",
       "      <td>716707</td>\n",
       "      <td>Healthcare Setting, Inpatient</td>\n",
       "    </tr>\n",
       "    <tr>\n",
       "      <th>1</th>\n",
       "      <td>United States</td>\n",
       "      <td>145939</td>\n",
       "      <td>Healthcare Setting, Outpatient or Emergency Room</td>\n",
       "    </tr>\n",
       "    <tr>\n",
       "      <th>2</th>\n",
       "      <td>United States</td>\n",
       "      <td>7013</td>\n",
       "      <td>Healthcare Setting, Dead on Arrival</td>\n",
       "    </tr>\n",
       "    <tr>\n",
       "      <th>3</th>\n",
       "      <td>United States</td>\n",
       "      <td>833215</td>\n",
       "      <td>Decedent's Home</td>\n",
       "    </tr>\n",
       "    <tr>\n",
       "      <th>4</th>\n",
       "      <td>United States</td>\n",
       "      <td>153348</td>\n",
       "      <td>Hospice Facility</td>\n",
       "    </tr>\n",
       "    <tr>\n",
       "      <th>5</th>\n",
       "      <td>United States</td>\n",
       "      <td>424540</td>\n",
       "      <td>Nursing Home or Long Term Care Facility</td>\n",
       "    </tr>\n",
       "  </tbody>\n",
       "</table>\n",
       "</div>"
      ],
      "text/plain": [
       "           State  Total_Deaths  \\\n",
       "0  United States        716707   \n",
       "1  United States        145939   \n",
       "2  United States          7013   \n",
       "3  United States        833215   \n",
       "4  United States        153348   \n",
       "5  United States        424540   \n",
       "\n",
       "                                     Place_of_Death  \n",
       "0                     Healthcare Setting, Inpatient  \n",
       "1  Healthcare Setting, Outpatient or Emergency Room  \n",
       "2               Healthcare Setting, Dead on Arrival  \n",
       "3                                   Decedent's Home  \n",
       "4                                  Hospice Facility  \n",
       "5           Nursing Home or Long Term Care Facility  "
      ]
     },
     "execution_count": 70,
     "metadata": {},
     "output_type": "execute_result"
    }
   ],
   "source": [
    "df.head(6)"
   ]
  },
  {
   "cell_type": "code",
   "execution_count": 71,
   "metadata": {},
   "outputs": [
    {
     "name": "stdout",
     "output_type": "stream",
     "text": [
      "      State  Total_Deaths  Place_of_Death  Cluster\n",
      "0 -2.513752     -5.634006       -9.376058        1\n",
      "1 -7.052939      5.388439       -1.680049        2\n",
      "2 -5.899495      0.151991        1.393917        0\n"
     ]
    }
   ],
   "source": [
    "import pandas as pd\n",
    "from sklearn.datasets.samples_generator import make_blobs\n",
    "from sklearn.cluster import KMeans\n",
    "\n",
    "X, _ = make_blobs(n_samples=3, centers=3, n_features=3)\n",
    "\n",
    "df = pd.DataFrame(X, columns=['State','Total_Deaths','Place_of_Death'])\n",
    "\n",
    "kmeans = KMeans(n_clusters=3)\n",
    "\n",
    "y = kmeans.fit_predict(df[['State','Total_Deaths','Place_of_Death']])\n",
    "\n",
    "df['Cluster'] = y\n",
    "\n",
    "print(df.head())"
   ]
  },
  {
   "cell_type": "code",
   "execution_count": 72,
   "metadata": {},
   "outputs": [
    {
     "data": {
      "text/html": [
       "<div>\n",
       "<style scoped>\n",
       "    .dataframe tbody tr th:only-of-type {\n",
       "        vertical-align: middle;\n",
       "    }\n",
       "\n",
       "    .dataframe tbody tr th {\n",
       "        vertical-align: top;\n",
       "    }\n",
       "\n",
       "    .dataframe thead th {\n",
       "        text-align: right;\n",
       "    }\n",
       "</style>\n",
       "<table border=\"1\" class=\"dataframe\">\n",
       "  <thead>\n",
       "    <tr style=\"text-align: right;\">\n",
       "      <th></th>\n",
       "      <th>State</th>\n",
       "      <th>Total_Deaths</th>\n",
       "      <th>Place_of_Death</th>\n",
       "      <th>Cluster</th>\n",
       "      <th>Death_Binary</th>\n",
       "    </tr>\n",
       "  </thead>\n",
       "  <tbody>\n",
       "    <tr>\n",
       "      <th>0</th>\n",
       "      <td>-2.513752</td>\n",
       "      <td>-5.634006</td>\n",
       "      <td>-9.376058</td>\n",
       "      <td>1</td>\n",
       "      <td>0</td>\n",
       "    </tr>\n",
       "    <tr>\n",
       "      <th>1</th>\n",
       "      <td>-7.052939</td>\n",
       "      <td>5.388439</td>\n",
       "      <td>-1.680049</td>\n",
       "      <td>2</td>\n",
       "      <td>1</td>\n",
       "    </tr>\n",
       "    <tr>\n",
       "      <th>2</th>\n",
       "      <td>-5.899495</td>\n",
       "      <td>0.151991</td>\n",
       "      <td>1.393917</td>\n",
       "      <td>0</td>\n",
       "      <td>1</td>\n",
       "    </tr>\n",
       "  </tbody>\n",
       "</table>\n",
       "</div>"
      ],
      "text/plain": [
       "      State  Total_Deaths  Place_of_Death  Cluster  Death_Binary\n",
       "0 -2.513752     -5.634006       -9.376058        1             0\n",
       "1 -7.052939      5.388439       -1.680049        2             1\n",
       "2 -5.899495      0.151991        1.393917        0             1"
      ]
     },
     "execution_count": 72,
     "metadata": {},
     "output_type": "execute_result"
    }
   ],
   "source": [
    "# Let's create a binary variable for the emphasis on theft. \n",
    "df['Death_Binary'] = np.where(df['Total_Deaths'] > 0,1,0)\n",
    "# confirming our new column binary variable\n",
    "df.head(6)"
   ]
  },
  {
   "cell_type": "code",
   "execution_count": 77,
   "metadata": {},
   "outputs": [
    {
     "data": {
      "image/png": "[encoded data removed]",
      "text/plain": [
       "<Figure size 793.359x720 with 20 Axes>"
      ]
     },
     "metadata": {
      "needs_background": "light"
     },
     "output_type": "display_data"
    }
   ],
   "source": [
    "# Let's now obtain five percent of our sample data and do a Pairwise Plots. Note that this is computationally expensive.\n",
    "df_sample = df.sample(frac=0.05)\n",
    "#Pairwise plots\n",
    "pplot = sns.pairplot(df_sample, hue=\"Total_Deaths\")\n",
    "\n",
    "\n"
   ]
  },
  {
   "cell_type": "code",
   "execution_count": null,
   "metadata": {},
   "outputs": [],
   "source": []
  }
 ],
 "metadata": {
  "kernelspec": {
   "display_name": "Python 3",
   "language": "python",
   "name": "python3"
  },
  "language_info": {
   "codemirror_mode": {
    "name": "ipython",
    "version": 3
   },
   "file_extension": ".py",
   "mimetype": "text/x-python",
   "name": "python",
   "nbconvert_exporter": "python",
   "pygments_lexer": "ipython3",
   "version": "3.7.6"
  }
 },
 "nbformat": 4,
 "nbformat_minor": 4
}
