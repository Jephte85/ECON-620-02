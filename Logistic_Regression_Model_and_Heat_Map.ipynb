{
 "cells": [
  {
   "cell_type": "code",
   "execution_count": 9,
   "metadata": {},
   "outputs": [],
   "source": [
    "## lets import the package\n",
    "\n",
    "import numpy as np\n",
    "import pandas as pd\n",
    "import sklearn\n",
    "from sklearn.multiclass import OneVsRestClassifier\n",
    "from sklearn.svm import SVC\n",
    "import matplotlib.pyplot as plt \n",
    "\n",
    "\n",
    "import os\n",
    "import pandas as pd\n",
    "import numpy as np\n",
    "import matplotlib.pyplot as plt\n",
    "import seaborn as sns\n",
    "from random import sample\n",
    "from sklearn.linear_model import LogisticRegression\n",
    "from sklearn import tree\n",
    "from sklearn.ensemble import RandomForestClassifier\n",
    "from sklearn.svm import SVC\n",
    "from sklearn.neighbors import KNeighborsClassifier\n",
    "from sklearn.naive_bayes import GaussianNB\n",
    "#from sklearn.cross_validation import cross_val_score\n",
    "from sklearn.model_selection import cross_validate\n",
    "from sklearn.metrics import recall_score\n",
    "from sklearn import metrics\n",
    "from IPython.display import Image\n",
    "#from pydotplus import graph_from_dot_data\n",
    "\n",
    "\n"
   ]
  },
  {
   "cell_type": "code",
   "execution_count": 10,
   "metadata": {},
   "outputs": [
    {
     "data": {
      "text/html": [
       "<div>\n",
       "<style scoped>\n",
       "    .dataframe tbody tr th:only-of-type {\n",
       "        vertical-align: middle;\n",
       "    }\n",
       "\n",
       "    .dataframe tbody tr th {\n",
       "        vertical-align: top;\n",
       "    }\n",
       "\n",
       "    .dataframe thead th {\n",
       "        text-align: right;\n",
       "    }\n",
       "</style>\n",
       "<table border=\"1\" class=\"dataframe\">\n",
       "  <thead>\n",
       "    <tr style=\"text-align: right;\">\n",
       "      <th></th>\n",
       "      <th>Unnamed: 0</th>\n",
       "      <th>State</th>\n",
       "      <th>Start_week</th>\n",
       "      <th>End_week</th>\n",
       "      <th>Total_Deaths</th>\n",
       "      <th>Place_of_Death</th>\n",
       "    </tr>\n",
       "  </thead>\n",
       "  <tbody>\n",
       "    <tr>\n",
       "      <th>0</th>\n",
       "      <td>1</td>\n",
       "      <td>United States</td>\n",
       "      <td>2020-02-01</td>\n",
       "      <td>2020-11-07</td>\n",
       "      <td>716707</td>\n",
       "      <td>Healthcare Setting, Inpatient</td>\n",
       "    </tr>\n",
       "    <tr>\n",
       "      <th>1</th>\n",
       "      <td>2</td>\n",
       "      <td>United States</td>\n",
       "      <td>2020-02-01</td>\n",
       "      <td>2020-11-07</td>\n",
       "      <td>145939</td>\n",
       "      <td>Healthcare Setting, Outpatient or Emergency Room</td>\n",
       "    </tr>\n",
       "    <tr>\n",
       "      <th>2</th>\n",
       "      <td>3</td>\n",
       "      <td>United States</td>\n",
       "      <td>2020-02-01</td>\n",
       "      <td>2020-11-07</td>\n",
       "      <td>7013</td>\n",
       "      <td>Healthcare Setting, Dead on Arrival</td>\n",
       "    </tr>\n",
       "    <tr>\n",
       "      <th>3</th>\n",
       "      <td>4</td>\n",
       "      <td>United States</td>\n",
       "      <td>2020-02-01</td>\n",
       "      <td>2020-11-07</td>\n",
       "      <td>833215</td>\n",
       "      <td>Decedent's Home</td>\n",
       "    </tr>\n",
       "    <tr>\n",
       "      <th>4</th>\n",
       "      <td>5</td>\n",
       "      <td>United States</td>\n",
       "      <td>2020-02-01</td>\n",
       "      <td>2020-11-07</td>\n",
       "      <td>153348</td>\n",
       "      <td>Hospice Facility</td>\n",
       "    </tr>\n",
       "    <tr>\n",
       "      <th>5</th>\n",
       "      <td>6</td>\n",
       "      <td>United States</td>\n",
       "      <td>2020-02-01</td>\n",
       "      <td>2020-11-07</td>\n",
       "      <td>424540</td>\n",
       "      <td>Nursing Home or Long Term Care Facility</td>\n",
       "    </tr>\n",
       "  </tbody>\n",
       "</table>\n",
       "</div>"
      ],
      "text/plain": [
       "   Unnamed: 0          State  Start_week    End_week  Total_Deaths  \\\n",
       "0           1  United States  2020-02-01  2020-11-07        716707   \n",
       "1           2  United States  2020-02-01  2020-11-07        145939   \n",
       "2           3  United States  2020-02-01  2020-11-07          7013   \n",
       "3           4  United States  2020-02-01  2020-11-07        833215   \n",
       "4           5  United States  2020-02-01  2020-11-07        153348   \n",
       "5           6  United States  2020-02-01  2020-11-07        424540   \n",
       "\n",
       "                                     Place_of_Death  \n",
       "0                     Healthcare Setting, Inpatient  \n",
       "1  Healthcare Setting, Outpatient or Emergency Room  \n",
       "2               Healthcare Setting, Dead on Arrival  \n",
       "3                                   Decedent's Home  \n",
       "4                                  Hospice Facility  \n",
       "5           Nursing Home or Long Term Care Facility  "
      ]
     },
     "execution_count": 10,
     "metadata": {},
     "output_type": "execute_result"
    }
   ],
   "source": [
    "#. Lets import our data and obtain the first five rows.\n",
    "df = pd.read_csv(\"/Users/jephteestiverne/Desktop/CovidProject/Covid_Sample_Data.csv\")\n",
    "#print(df)\n",
    "df.head(6)"
   ]
  },
  {
   "cell_type": "code",
   "execution_count": 11,
   "metadata": {},
   "outputs": [],
   "source": [
    "# Lets drop the unnecessary columns to avoid the dummy variable trap\n",
    "df = df.drop(['Unnamed: 0','State',\n",
    " 'Start_week',\n",
    " 'End_week',], axis=1)\n",
    "\n"
   ]
  },
  {
   "cell_type": "code",
   "execution_count": 12,
   "metadata": {},
   "outputs": [],
   "source": [
    "from sklearn.cluster import KMeans\n",
    "\n",
    "km = KMeans(n_clusters=12, random_state=1)\n",
    "new = df._get_numeric_data().dropna(axis=1)\n",
    "km.fit(new)\n",
    "predict=km.predict(new)\n",
    "\n",
    "df['Places'] = pd.Series(predict, index=df.index)"
   ]
  },
  {
   "cell_type": "code",
   "execution_count": 13,
   "metadata": {},
   "outputs": [],
   "source": [
    "\n",
    "\n",
    "# Lets drop the unnecessary columns to avoid the dummy variable trap\n",
    "df = df.drop(['Place_of_Death',], axis=1)"
   ]
  },
  {
   "cell_type": "code",
   "execution_count": 14,
   "metadata": {},
   "outputs": [
    {
     "data": {
      "text/html": [
       "<div>\n",
       "<style scoped>\n",
       "    .dataframe tbody tr th:only-of-type {\n",
       "        vertical-align: middle;\n",
       "    }\n",
       "\n",
       "    .dataframe tbody tr th {\n",
       "        vertical-align: top;\n",
       "    }\n",
       "\n",
       "    .dataframe thead th {\n",
       "        text-align: right;\n",
       "    }\n",
       "</style>\n",
       "<table border=\"1\" class=\"dataframe\">\n",
       "  <thead>\n",
       "    <tr style=\"text-align: right;\">\n",
       "      <th></th>\n",
       "      <th>Total_Deaths</th>\n",
       "      <th>Places</th>\n",
       "      <th>Death_Binary</th>\n",
       "    </tr>\n",
       "  </thead>\n",
       "  <tbody>\n",
       "    <tr>\n",
       "      <th>0</th>\n",
       "      <td>716707</td>\n",
       "      <td>1</td>\n",
       "      <td>1</td>\n",
       "    </tr>\n",
       "    <tr>\n",
       "      <th>1</th>\n",
       "      <td>145939</td>\n",
       "      <td>5</td>\n",
       "      <td>1</td>\n",
       "    </tr>\n",
       "    <tr>\n",
       "      <th>2</th>\n",
       "      <td>7013</td>\n",
       "      <td>8</td>\n",
       "      <td>1</td>\n",
       "    </tr>\n",
       "    <tr>\n",
       "      <th>3</th>\n",
       "      <td>833215</td>\n",
       "      <td>6</td>\n",
       "      <td>1</td>\n",
       "    </tr>\n",
       "    <tr>\n",
       "      <th>4</th>\n",
       "      <td>153348</td>\n",
       "      <td>5</td>\n",
       "      <td>1</td>\n",
       "    </tr>\n",
       "    <tr>\n",
       "      <th>5</th>\n",
       "      <td>424540</td>\n",
       "      <td>2</td>\n",
       "      <td>1</td>\n",
       "    </tr>\n",
       "  </tbody>\n",
       "</table>\n",
       "</div>"
      ],
      "text/plain": [
       "   Total_Deaths  Places  Death_Binary\n",
       "0        716707       1             1\n",
       "1        145939       5             1\n",
       "2          7013       8             1\n",
       "3        833215       6             1\n",
       "4        153348       5             1\n",
       "5        424540       2             1"
      ]
     },
     "execution_count": 14,
     "metadata": {},
     "output_type": "execute_result"
    }
   ],
   "source": [
    "# Let's create a binary variable for the emphasis on theft. \n",
    "df['Death_Binary'] = np.where(df['Total_Deaths'] > 0,1,0)\n",
    "# confirming our new column binary variable\n",
    "df.head(6)"
   ]
  },
  {
   "cell_type": "code",
   "execution_count": 15,
   "metadata": {},
   "outputs": [
    {
     "data": {
      "text/plain": [
       "<matplotlib.axes._subplots.AxesSubplot at 0x7ff7fdb1d390>"
      ]
     },
     "execution_count": 15,
     "metadata": {},
     "output_type": "execute_result"
    },
    {
     "data": {
      "image/png": "[encoded data removed]",
      "text/plain": [
       "<Figure size 720x720 with 2 Axes>"
      ]
     },
     "metadata": {
      "needs_background": "light"
     },
     "output_type": "display_data"
    }
   ],
   "source": [
    "# We can also use a Correlation heatmap. The importance of the aesthetics of a heatmap cannot be overlooked; after all, the main purpose of creating a graphic representation of data is for better understanding. This article will walk you through several ways that a correlation heatmap can be tweaked or customized to improve its readability, which is essential to effectively present your data.\n",
    "# Reference : https://towardsdatascience.com/formatting-tips-for-correlation-heatmaps-in-seaborn-4478ef15d87f\n",
    "correlation = df.corr()\n",
    "plt.figure(figsize=(10, 10))\n",
    "sns.heatmap(correlation, vmax=1, square=True, annot=True, cmap='cubehelix')\n",
    "# Notice how our binary variable has a mostly positive correlation.  "
   ]
  },
  {
   "cell_type": "code",
   "execution_count": 18,
   "metadata": {},
   "outputs": [
    {
     "name": "stderr",
     "output_type": "stream",
     "text": [
      "/Users/jephteestiverne/opt/anaconda3/lib/python3.7/site-packages/seaborn/distributions.py:288: UserWarning: Data must have variance to compute a kernel density estimate.\n",
      "  warnings.warn(msg, UserWarning)\n",
      "/Users/jephteestiverne/opt/anaconda3/lib/python3.7/site-packages/seaborn/distributions.py:288: UserWarning: Data must have variance to compute a kernel density estimate.\n",
      "  warnings.warn(msg, UserWarning)\n"
     ]
    },
    {
     "data": {
      "image/png": "[encoded data removed]",
      "text/plain": [
       "<Figure size 435.5x360 with 6 Axes>"
      ]
     },
     "metadata": {
      "needs_background": "light"
     },
     "output_type": "display_data"
    }
   ],
   "source": [
    "# Let's now obtain five percent of our sample data and do a Pairwise Plots. Note that this is computationally expensive.\n",
    "df_sample = df.sample(frac=0.05)\n",
    "##Pairwise plots\n",
    "pplot = sns.pairplot(df_sample, hue=\"Death_Binary\")\n",
    "\n",
    "\n"
   ]
  },
  {
   "cell_type": "code",
   "execution_count": 20,
   "metadata": {},
   "outputs": [
    {
     "data": {
      "text/plain": [
       "(91, 3)"
      ]
     },
     "execution_count": 20,
     "metadata": {},
     "output_type": "execute_result"
    }
   ],
   "source": [
    "x = len(df[df['Death_Binary'] == 1])\n",
    "x# total theft in our sample crimes  = 108905\n",
    "y = len(df[df['Death_Binary'] == 0])\n",
    "y# total NOT theft in our sample crimes  = 379365\n",
    "z = (round(float(len(df[df['Death_Binary'] == 1])) / len(df) * 100), 3)# % people left = 24.0%\n",
    "# percentage of crimes that are theft related \n",
    "z"
   ]
  },
  {
   "cell_type": "code",
   "execution_count": 21,
   "metadata": {},
   "outputs": [
    {
     "name": "stdout",
     "output_type": "stream",
     "text": [
      "(249, 3) (83, 3) (83, 3)\n"
     ]
    }
   ],
   "source": [
    "# Lets now Randomly split the data into test, training, and validation sets.\n",
    "train, test, validate = np.split(df.sample(frac=1), [int(.6*len(df)), int(.8*len(df))])\n",
    "# This is crucial to avoid having one subgroup of the data overrepresented in either our training or testing datasets, hence df.sample(Wikipedia).\n",
    "print (train.shape, test.shape, validate.shape)\n",
    "#(292903, 4) (97635, 4) (97635, 4)\n",
    "\n",
    "\n",
    "\n"
   ]
  },
  {
   "cell_type": "code",
   "execution_count": 22,
   "metadata": {},
   "outputs": [],
   "source": [
    "# Separate target and predictors\n",
    "y_train = train['Death_Binary']\n",
    "x_train = train.drop(['Death_Binary'], axis=1)\n",
    "y_test = test['Death_Binary']\n",
    "x_test = test.drop(['Death_Binary'], axis=1)\n",
    "y_validate = validate['Death_Binary']\n",
    "x_validate = validate.drop(['Death_Binary'], axis=1)"
   ]
  },
  {
   "cell_type": "code",
   "execution_count": 25,
   "metadata": {},
   "outputs": [
    {
     "data": {
      "text/plain": [
       "0.927710843373494"
      ]
     },
     "execution_count": 25,
     "metadata": {},
     "output_type": "execute_result"
    }
   ],
   "source": [
    "# Check the balance of the splits on y_. Principal component analysis (PCA) is the process of computing the principal components and using them to perform a change of basis on the data, sometimes using only the first few principal components and ignoring the rest().\n",
    "y_test.mean()\n",
    "# 0.8674698795180723\n",
    "y_train.mean()\n",
    "#0.927710843373494"
   ]
  },
  {
   "cell_type": "code",
   "execution_count": 29,
   "metadata": {},
   "outputs": [
    {
     "name": "stdout",
     "output_type": "stream",
     "text": [
      "Training set score: 1.000\n",
      "Test set score: 1.000\n"
     ]
    }
   ],
   "source": [
    "logreg = LogisticRegression().fit(x_train ,y_train)\n",
    "logreg\n",
    "\n",
    "print(\"Training set score: {:.3f}\".format(logreg.score(x_train,y_train)))\n",
    "print(\"Test set score: {:.3f}\".format(logreg.score(x_test,y_test)))\n",
    "\n",
    "import statsmodels.api as sm\n",
    "#logit_model=sm.Logit(y,x)\n",
    "#result=logit_model.fit()\n"
   ]
  },
  {
   "cell_type": "code",
   "execution_count": 32,
   "metadata": {},
   "outputs": [
    {
     "data": {
      "text/plain": [
       "<seaborn.axisgrid.PairGrid at 0x7ff7ff66e150>"
      ]
     },
     "execution_count": 32,
     "metadata": {},
     "output_type": "execute_result"
    },
    {
     "data": {
      "image/png": "[encoded data removed]",
      "text/plain": [
       "<Figure size 228.75x180 with 1 Axes>"
      ]
     },
     "metadata": {
      "needs_background": "light"
     },
     "output_type": "display_data"
    }
   ],
   "source": [
    "sns.pairplot(df,x_vars=['Places'],y_vars=['Total_Deaths'],hue='Places')\n",
    "\n",
    "#sns.pairplot(df,hue='Places')"
   ]
  },
  {
   "cell_type": "code",
   "execution_count": 33,
   "metadata": {},
   "outputs": [
    {
     "data": {
      "text/html": [
       "<div>\n",
       "<style scoped>\n",
       "    .dataframe tbody tr th:only-of-type {\n",
       "        vertical-align: middle;\n",
       "    }\n",
       "\n",
       "    .dataframe tbody tr th {\n",
       "        vertical-align: top;\n",
       "    }\n",
       "\n",
       "    .dataframe thead th {\n",
       "        text-align: right;\n",
       "    }\n",
       "</style>\n",
       "<table border=\"1\" class=\"dataframe\">\n",
       "  <thead>\n",
       "    <tr style=\"text-align: right;\">\n",
       "      <th></th>\n",
       "      <th>Total_Deaths</th>\n",
       "      <th>Places</th>\n",
       "      <th>Death_Binary</th>\n",
       "    </tr>\n",
       "  </thead>\n",
       "  <tbody>\n",
       "    <tr>\n",
       "      <th>Total_Deaths</th>\n",
       "      <td>1.000000</td>\n",
       "      <td>0.039601</td>\n",
       "      <td>0.064131</td>\n",
       "    </tr>\n",
       "    <tr>\n",
       "      <th>Places</th>\n",
       "      <td>0.039601</td>\n",
       "      <td>1.000000</td>\n",
       "      <td>0.325389</td>\n",
       "    </tr>\n",
       "    <tr>\n",
       "      <th>Death_Binary</th>\n",
       "      <td>0.064131</td>\n",
       "      <td>0.325389</td>\n",
       "      <td>1.000000</td>\n",
       "    </tr>\n",
       "  </tbody>\n",
       "</table>\n",
       "</div>"
      ],
      "text/plain": [
       "              Total_Deaths    Places  Death_Binary\n",
       "Total_Deaths      1.000000  0.039601      0.064131\n",
       "Places            0.039601  1.000000      0.325389\n",
       "Death_Binary      0.064131  0.325389      1.000000"
      ]
     },
     "execution_count": 33,
     "metadata": {},
     "output_type": "execute_result"
    }
   ],
   "source": [
    "df.corr()"
   ]
  },
  {
   "cell_type": "code",
   "execution_count": 35,
   "metadata": {},
   "outputs": [
    {
     "data": {
      "text/plain": [
       "<matplotlib.axes._subplots.AxesSubplot at 0x7ff7ff753590>"
      ]
     },
     "execution_count": 35,
     "metadata": {},
     "output_type": "execute_result"
    },
    {
     "data": {
      "image/png": "[encoded data removed]",
      "text/plain": [
       "<Figure size 720x720 with 2 Axes>"
      ]
     },
     "metadata": {
      "needs_background": "light"
     },
     "output_type": "display_data"
    }
   ],
   "source": [
    "#We can also use a Correlation heatmap. The importance of the aesthetics of a heatmap cannot be overlooked; after all, the main purpose of creating a graphic representation of data is for better understanding. This article will walk you through several ways that a correlation heatmap can be tweaked or customized to improve its readability, which is essential to effectively present your data.\n",
    "# Reference : https://towardsdatascience.com/formatting-tips-for-correlation-heatmaps-in-seaborn-4478ef15d87f\n",
    "correlation = df.corr()\n",
    "plt.figure(figsize=(10, 10))\n",
    "sns.heatmap(correlation, vmax=1, square=True, annot=True, cmap='cubehelix')\n",
    "# Notice how our binary variable has a mostly positive correlation.  "
   ]
  },
  {
   "cell_type": "code",
   "execution_count": 37,
   "metadata": {},
   "outputs": [
    {
     "data": {
      "text/plain": [
       "<matplotlib.axes._subplots.AxesSubplot at 0x7ff7ffc221d0>"
      ]
     },
     "execution_count": 37,
     "metadata": {},
     "output_type": "execute_result"
    },
    {
     "data": {
      "image/png": "[encoded data removed]",
      "text/plain": [
       "<Figure size 432x288 with 1 Axes>"
      ]
     },
     "metadata": {
      "needs_background": "light"
     },
     "output_type": "display_data"
    }
   ],
   "source": [
    "sns.boxplot(y='Total_Deaths',x='Death_Binary',hue='Places', data=df)"
   ]
  },
  {
   "cell_type": "code",
   "execution_count": 38,
   "metadata": {},
   "outputs": [
    {
     "name": "stdout",
     "output_type": "stream",
     "text": [
      "                            OLS Regression Results                            \n",
      "==============================================================================\n",
      "Dep. Variable:           Death_Binary   R-squared:                       0.078\n",
      "Model:                            OLS   Adj. R-squared:                  0.070\n",
      "Method:                 Least Squares   F-statistic:                     10.39\n",
      "Date:                Mon, 23 Nov 2020   Prob (F-statistic):           4.64e-05\n",
      "Time:                        16:08:00   Log-Likelihood:                -6.8033\n",
      "No. Observations:                 249   AIC:                             19.61\n",
      "Df Residuals:                     246   BIC:                             30.16\n",
      "Df Model:                           2                                         \n",
      "Covariance Type:            nonrobust                                         \n",
      "================================================================================\n",
      "                   coef    std err          t      P>|t|      [0.025      0.975]\n",
      "--------------------------------------------------------------------------------\n",
      "const            0.8554      0.022     38.152      0.000       0.811       0.900\n",
      "Total_Deaths  1.761e-07   2.61e-07      0.675      0.500   -3.38e-07     6.9e-07\n",
      "Places           0.0152      0.003      4.456      0.000       0.008       0.022\n",
      "==============================================================================\n",
      "Omnibus:                      163.898   Durbin-Watson:                   2.023\n",
      "Prob(Omnibus):                  0.000   Jarque-Bera (JB):              873.237\n",
      "Skew:                          -2.862   Prob(JB):                    2.39e-190\n",
      "Kurtosis:                      10.169   Cond. No.                     8.86e+04\n",
      "==============================================================================\n",
      "\n",
      "Warnings:\n",
      "[1] Standard Errors assume that the covariance matrix of the errors is correctly specified.\n",
      "[2] The condition number is large, 8.86e+04. This might indicate that there are\n",
      "strong multicollinearity or other numerical problems.\n"
     ]
    }
   ],
   "source": [
    "import statsmodels.api as sm\n",
    "X_train_Sm= sm.add_constant(x_train)\n",
    "X_train_Sm= sm.add_constant(x_train)\n",
    "ls=sm.OLS(y_train,X_train_Sm).fit()\n",
    "print(ls.summary())"
   ]
  },
  {
   "cell_type": "code",
   "execution_count": null,
   "metadata": {},
   "outputs": [],
   "source": []
  }
 ],
 "metadata": {
  "kernelspec": {
   "display_name": "Python 3",
   "language": "python",
   "name": "python3"
  },
  "language_info": {
   "codemirror_mode": {
    "name": "ipython",
    "version": 3
   },
   "file_extension": ".py",
   "mimetype": "text/x-python",
   "name": "python",
   "nbconvert_exporter": "python",
   "pygments_lexer": "ipython3",
   "version": "3.7.6"
  }
 },
 "nbformat": 4,
 "nbformat_minor": 4
}
